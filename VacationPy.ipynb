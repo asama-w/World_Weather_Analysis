{
 "cells": [
  {
   "cell_type": "code",
   "execution_count": 1,
   "id": "21b33b53",
   "metadata": {},
   "outputs": [],
   "source": [
    "# Import the dependencies.\n",
    "import pandas as pd\n",
    "import gmaps\n",
    "import requests\n",
    "# Import the API key.\n",
    "from config import g_key"
   ]
  },
  {
   "cell_type": "code",
   "execution_count": 2,
   "id": "83250b36",
   "metadata": {},
   "outputs": [
    {
     "data": {
      "text/html": [
       "<div>\n",
       "<style scoped>\n",
       "    .dataframe tbody tr th:only-of-type {\n",
       "        vertical-align: middle;\n",
       "    }\n",
       "\n",
       "    .dataframe tbody tr th {\n",
       "        vertical-align: top;\n",
       "    }\n",
       "\n",
       "    .dataframe thead th {\n",
       "        text-align: right;\n",
       "    }\n",
       "</style>\n",
       "<table border=\"1\" class=\"dataframe\">\n",
       "  <thead>\n",
       "    <tr style=\"text-align: right;\">\n",
       "      <th></th>\n",
       "      <th>City_ID</th>\n",
       "      <th>City</th>\n",
       "      <th>Country</th>\n",
       "      <th>Date</th>\n",
       "      <th>Lat</th>\n",
       "      <th>Lng</th>\n",
       "      <th>Max Temp</th>\n",
       "      <th>Humidity</th>\n",
       "      <th>Cloudiness</th>\n",
       "      <th>Wind Speed</th>\n",
       "    </tr>\n",
       "  </thead>\n",
       "  <tbody>\n",
       "    <tr>\n",
       "      <th>0</th>\n",
       "      <td>0</td>\n",
       "      <td>Mataura</td>\n",
       "      <td>NZ</td>\n",
       "      <td>2022-04-15 08:29:51</td>\n",
       "      <td>-46.1927</td>\n",
       "      <td>168.8643</td>\n",
       "      <td>51.89</td>\n",
       "      <td>77</td>\n",
       "      <td>13</td>\n",
       "      <td>3.20</td>\n",
       "    </tr>\n",
       "    <tr>\n",
       "      <th>1</th>\n",
       "      <td>1</td>\n",
       "      <td>Upata</td>\n",
       "      <td>VE</td>\n",
       "      <td>2022-04-15 08:29:52</td>\n",
       "      <td>8.0086</td>\n",
       "      <td>-62.3989</td>\n",
       "      <td>70.66</td>\n",
       "      <td>88</td>\n",
       "      <td>100</td>\n",
       "      <td>4.56</td>\n",
       "    </tr>\n",
       "    <tr>\n",
       "      <th>2</th>\n",
       "      <td>2</td>\n",
       "      <td>Airai</td>\n",
       "      <td>TL</td>\n",
       "      <td>2022-04-15 08:29:52</td>\n",
       "      <td>-8.9266</td>\n",
       "      <td>125.4092</td>\n",
       "      <td>66.47</td>\n",
       "      <td>89</td>\n",
       "      <td>96</td>\n",
       "      <td>2.15</td>\n",
       "    </tr>\n",
       "    <tr>\n",
       "      <th>3</th>\n",
       "      <td>3</td>\n",
       "      <td>Hermanus</td>\n",
       "      <td>ZA</td>\n",
       "      <td>2022-04-15 08:29:52</td>\n",
       "      <td>-34.4187</td>\n",
       "      <td>19.2345</td>\n",
       "      <td>60.80</td>\n",
       "      <td>63</td>\n",
       "      <td>98</td>\n",
       "      <td>19.86</td>\n",
       "    </tr>\n",
       "    <tr>\n",
       "      <th>4</th>\n",
       "      <td>4</td>\n",
       "      <td>New Norfolk</td>\n",
       "      <td>AU</td>\n",
       "      <td>2022-04-15 08:29:53</td>\n",
       "      <td>-42.7826</td>\n",
       "      <td>147.0587</td>\n",
       "      <td>60.66</td>\n",
       "      <td>57</td>\n",
       "      <td>100</td>\n",
       "      <td>1.01</td>\n",
       "    </tr>\n",
       "  </tbody>\n",
       "</table>\n",
       "</div>"
      ],
      "text/plain": [
       "   City_ID         City Country                 Date      Lat       Lng  \\\n",
       "0        0      Mataura      NZ  2022-04-15 08:29:51 -46.1927  168.8643   \n",
       "1        1        Upata      VE  2022-04-15 08:29:52   8.0086  -62.3989   \n",
       "2        2        Airai      TL  2022-04-15 08:29:52  -8.9266  125.4092   \n",
       "3        3     Hermanus      ZA  2022-04-15 08:29:52 -34.4187   19.2345   \n",
       "4        4  New Norfolk      AU  2022-04-15 08:29:53 -42.7826  147.0587   \n",
       "\n",
       "   Max Temp  Humidity  Cloudiness  Wind Speed  \n",
       "0     51.89        77          13        3.20  \n",
       "1     70.66        88         100        4.56  \n",
       "2     66.47        89          96        2.15  \n",
       "3     60.80        63          98       19.86  \n",
       "4     60.66        57         100        1.01  "
      ]
     },
     "execution_count": 2,
     "metadata": {},
     "output_type": "execute_result"
    }
   ],
   "source": [
    "# Store the CSV you saved created in part one into a DataFrame.\n",
    "city_data_df = pd.read_csv(\"weather_data/cities.csv\")\n",
    "city_data_df.head()"
   ]
  },
  {
   "cell_type": "code",
   "execution_count": 3,
   "id": "e0c68376",
   "metadata": {},
   "outputs": [
    {
     "data": {
      "text/plain": [
       "City_ID         int64\n",
       "City           object\n",
       "Country        object\n",
       "Date           object\n",
       "Lat           float64\n",
       "Lng           float64\n",
       "Max Temp      float64\n",
       "Humidity        int64\n",
       "Cloudiness      int64\n",
       "Wind Speed    float64\n",
       "dtype: object"
      ]
     },
     "execution_count": 3,
     "metadata": {},
     "output_type": "execute_result"
    }
   ],
   "source": [
    "city_data_df.dtypes"
   ]
  },
  {
   "cell_type": "code",
   "execution_count": 4,
   "id": "cb0cdc61",
   "metadata": {},
   "outputs": [],
   "source": [
    "# Configure gmaps to use your Google API key.\n",
    "gmaps.configure(api_key=g_key)"
   ]
  },
  {
   "cell_type": "code",
   "execution_count": 10,
   "id": "967da4c7",
   "metadata": {},
   "outputs": [
    {
     "data": {
      "application/vnd.jupyter.widget-view+json": {
       "model_id": "16293cdf6942450db355c78d70c5d6b0",
       "version_major": 2,
       "version_minor": 0
      },
      "text/plain": [
       "Figure(layout=FigureLayout(height='420px'))"
      ]
     },
     "metadata": {},
     "output_type": "display_data"
    }
   ],
   "source": [
    "# Heatmap of temperature\n",
    "# Get the latitude and longitude.\n",
    "locations = city_data_df[[\"Lat\", \"Lng\"]]\n",
    "# Get the maximum temperature.\n",
    "max_temp = city_data_df[\"Max Temp\"]\n",
    "# Assign the figure variable.\n",
    "fig = gmaps.figure(center=(30.0, 31.0), zoom_level=1.5)\n",
    "# Assign the heatmap variable.\n",
    "heat_layer = gmaps.heatmap_layer(locations, weights=[max(temp, 0) for temp in max_temp], dissipating=False, max_intensity=300, point_radius=4)\n",
    "# Add the heatmap layer.\n",
    "fig.add_layer(heat_layer)\n",
    "# Call the figure to plot the data.\n",
    "fig"
   ]
  },
  {
   "cell_type": "code",
   "execution_count": 7,
   "id": "cb0d52a6",
   "metadata": {},
   "outputs": [
    {
     "data": {
      "application/vnd.jupyter.widget-view+json": {
       "model_id": "5348dd7784e34b02a1e07a247a38c07a",
       "version_major": 2,
       "version_minor": 0
      },
      "text/plain": [
       "Figure(layout=FigureLayout(height='420px'))"
      ]
     },
     "metadata": {},
     "output_type": "display_data"
    }
   ],
   "source": [
    "# Heatmap of percent humidity\n",
    "locations = city_data_df[[\"Lat\", \"Lng\"]]\n",
    "humidity = city_data_df[\"Humidity\"]\n",
    "fig = gmaps.figure(center=(30.0, 31.0), zoom_level=1.5)\n",
    "heat_layer = gmaps.heatmap_layer(locations, weights=humidity, dissipating=False, max_intensity=300, point_radius=4)\n",
    "\n",
    "fig.add_layer(heat_layer)\n",
    "# Call the figure to plot the data.\n",
    "fig"
   ]
  },
  {
   "cell_type": "code",
   "execution_count": 8,
   "id": "2992ff0f",
   "metadata": {},
   "outputs": [
    {
     "data": {
      "application/vnd.jupyter.widget-view+json": {
       "model_id": "6bb8ee72ea5844f3add7a0c4e87069e3",
       "version_major": 2,
       "version_minor": 0
      },
      "text/plain": [
       "Figure(layout=FigureLayout(height='420px'))"
      ]
     },
     "metadata": {},
     "output_type": "display_data"
    }
   ],
   "source": [
    "# Heatmap of percent cloudiness\n",
    "locations = city_data_df[[\"Lat\", \"Lng\"]]\n",
    "clouds = city_data_df[\"Cloudiness\"]\n",
    "fig = gmaps.figure(center=(30.0, 31.0), zoom_level=1.5)\n",
    "heat_layer = gmaps.heatmap_layer(locations, weights=clouds, dissipating=False, max_intensity=300, point_radius=4)\n",
    "\n",
    "fig.add_layer(heat_layer)\n",
    "# Call the figure to plot the data.\n",
    "fig"
   ]
  },
  {
   "cell_type": "code",
   "execution_count": 9,
   "id": "3f2c89df",
   "metadata": {},
   "outputs": [
    {
     "data": {
      "application/vnd.jupyter.widget-view+json": {
       "model_id": "e92259cd1c734d44a70fd627347fc1fc",
       "version_major": 2,
       "version_minor": 0
      },
      "text/plain": [
       "Figure(layout=FigureLayout(height='420px'))"
      ]
     },
     "metadata": {},
     "output_type": "display_data"
    }
   ],
   "source": [
    "# Heatmap of Wind Speed\n",
    "locations = city_data_df[[\"Lat\", \"Lng\"]]\n",
    "wind = city_data_df[\"Wind Speed\"]\n",
    "fig = gmaps.figure(center=(30.0, 31.0), zoom_level=1.5)\n",
    "heat_layer = gmaps.heatmap_layer(locations, weights=wind, dissipating=False, max_intensity=300, point_radius=4)\n",
    "\n",
    "fig.add_layer(heat_layer)\n",
    "# Call the figure to plot the data.\n",
    "fig"
   ]
  },
  {
   "cell_type": "code",
   "execution_count": 11,
   "id": "2b8dcbfd",
   "metadata": {},
   "outputs": [
    {
     "name": "stdout",
     "output_type": "stream",
     "text": [
      "What is the minimum temperature you would like for your trip? 75\n",
      "What is the maximum temperature you would like for your trip? 90\n"
     ]
    }
   ],
   "source": [
    "# Ask the customer to add a minimum and maximum temperature value.\n",
    "min_temp = float(input(\"What is the minimum temperature you would like for your trip? \"))\n",
    "max_temp = float(input(\"What is the maximum temperature you would like for your trip? \"))"
   ]
  },
  {
   "cell_type": "code",
   "execution_count": 12,
   "id": "0a7d7aa6",
   "metadata": {},
   "outputs": [
    {
     "data": {
      "text/html": [
       "<div>\n",
       "<style scoped>\n",
       "    .dataframe tbody tr th:only-of-type {\n",
       "        vertical-align: middle;\n",
       "    }\n",
       "\n",
       "    .dataframe tbody tr th {\n",
       "        vertical-align: top;\n",
       "    }\n",
       "\n",
       "    .dataframe thead th {\n",
       "        text-align: right;\n",
       "    }\n",
       "</style>\n",
       "<table border=\"1\" class=\"dataframe\">\n",
       "  <thead>\n",
       "    <tr style=\"text-align: right;\">\n",
       "      <th></th>\n",
       "      <th>City_ID</th>\n",
       "      <th>City</th>\n",
       "      <th>Country</th>\n",
       "      <th>Date</th>\n",
       "      <th>Lat</th>\n",
       "      <th>Lng</th>\n",
       "      <th>Max Temp</th>\n",
       "      <th>Humidity</th>\n",
       "      <th>Cloudiness</th>\n",
       "      <th>Wind Speed</th>\n",
       "    </tr>\n",
       "  </thead>\n",
       "  <tbody>\n",
       "    <tr>\n",
       "      <th>5</th>\n",
       "      <td>5</td>\n",
       "      <td>Axim</td>\n",
       "      <td>GH</td>\n",
       "      <td>2022-04-15 08:29:53</td>\n",
       "      <td>4.8699</td>\n",
       "      <td>-2.2405</td>\n",
       "      <td>78.98</td>\n",
       "      <td>83</td>\n",
       "      <td>100</td>\n",
       "      <td>5.97</td>\n",
       "    </tr>\n",
       "    <tr>\n",
       "      <th>13</th>\n",
       "      <td>13</td>\n",
       "      <td>Vaini</td>\n",
       "      <td>TO</td>\n",
       "      <td>2022-04-15 08:29:56</td>\n",
       "      <td>-21.2000</td>\n",
       "      <td>-175.2000</td>\n",
       "      <td>78.96</td>\n",
       "      <td>89</td>\n",
       "      <td>40</td>\n",
       "      <td>8.05</td>\n",
       "    </tr>\n",
       "    <tr>\n",
       "      <th>19</th>\n",
       "      <td>19</td>\n",
       "      <td>Port Antonio</td>\n",
       "      <td>JM</td>\n",
       "      <td>2022-04-15 08:28:56</td>\n",
       "      <td>18.1800</td>\n",
       "      <td>-76.4612</td>\n",
       "      <td>75.00</td>\n",
       "      <td>84</td>\n",
       "      <td>14</td>\n",
       "      <td>9.33</td>\n",
       "    </tr>\n",
       "    <tr>\n",
       "      <th>22</th>\n",
       "      <td>22</td>\n",
       "      <td>Marawi</td>\n",
       "      <td>PH</td>\n",
       "      <td>2022-04-15 08:29:59</td>\n",
       "      <td>7.9986</td>\n",
       "      <td>124.2928</td>\n",
       "      <td>78.06</td>\n",
       "      <td>70</td>\n",
       "      <td>67</td>\n",
       "      <td>4.32</td>\n",
       "    </tr>\n",
       "    <tr>\n",
       "      <th>25</th>\n",
       "      <td>25</td>\n",
       "      <td>Victoria</td>\n",
       "      <td>HK</td>\n",
       "      <td>2022-04-15 08:25:36</td>\n",
       "      <td>22.2855</td>\n",
       "      <td>114.1577</td>\n",
       "      <td>83.17</td>\n",
       "      <td>70</td>\n",
       "      <td>7</td>\n",
       "      <td>11.99</td>\n",
       "    </tr>\n",
       "    <tr>\n",
       "      <th>26</th>\n",
       "      <td>26</td>\n",
       "      <td>Carnarvon</td>\n",
       "      <td>AU</td>\n",
       "      <td>2022-04-15 08:30:00</td>\n",
       "      <td>-24.8667</td>\n",
       "      <td>113.6333</td>\n",
       "      <td>82.47</td>\n",
       "      <td>69</td>\n",
       "      <td>71</td>\n",
       "      <td>12.66</td>\n",
       "    </tr>\n",
       "    <tr>\n",
       "      <th>32</th>\n",
       "      <td>32</td>\n",
       "      <td>Puerto Ayora</td>\n",
       "      <td>EC</td>\n",
       "      <td>2022-04-15 08:30:04</td>\n",
       "      <td>-0.7393</td>\n",
       "      <td>-90.3518</td>\n",
       "      <td>75.20</td>\n",
       "      <td>92</td>\n",
       "      <td>64</td>\n",
       "      <td>8.01</td>\n",
       "    </tr>\n",
       "    <tr>\n",
       "      <th>40</th>\n",
       "      <td>40</td>\n",
       "      <td>Bathsheba</td>\n",
       "      <td>BB</td>\n",
       "      <td>2022-04-15 08:30:08</td>\n",
       "      <td>13.2167</td>\n",
       "      <td>-59.5167</td>\n",
       "      <td>77.61</td>\n",
       "      <td>83</td>\n",
       "      <td>40</td>\n",
       "      <td>17.27</td>\n",
       "    </tr>\n",
       "    <tr>\n",
       "      <th>43</th>\n",
       "      <td>43</td>\n",
       "      <td>Ambulu</td>\n",
       "      <td>ID</td>\n",
       "      <td>2022-04-15 08:30:09</td>\n",
       "      <td>-8.3450</td>\n",
       "      <td>113.6058</td>\n",
       "      <td>83.84</td>\n",
       "      <td>79</td>\n",
       "      <td>35</td>\n",
       "      <td>4.59</td>\n",
       "    </tr>\n",
       "    <tr>\n",
       "      <th>45</th>\n",
       "      <td>45</td>\n",
       "      <td>Dingle</td>\n",
       "      <td>PH</td>\n",
       "      <td>2022-04-15 08:31:10</td>\n",
       "      <td>10.9995</td>\n",
       "      <td>122.6711</td>\n",
       "      <td>82.18</td>\n",
       "      <td>79</td>\n",
       "      <td>100</td>\n",
       "      <td>1.36</td>\n",
       "    </tr>\n",
       "  </tbody>\n",
       "</table>\n",
       "</div>"
      ],
      "text/plain": [
       "    City_ID          City Country                 Date      Lat       Lng  \\\n",
       "5         5          Axim      GH  2022-04-15 08:29:53   4.8699   -2.2405   \n",
       "13       13         Vaini      TO  2022-04-15 08:29:56 -21.2000 -175.2000   \n",
       "19       19  Port Antonio      JM  2022-04-15 08:28:56  18.1800  -76.4612   \n",
       "22       22        Marawi      PH  2022-04-15 08:29:59   7.9986  124.2928   \n",
       "25       25      Victoria      HK  2022-04-15 08:25:36  22.2855  114.1577   \n",
       "26       26     Carnarvon      AU  2022-04-15 08:30:00 -24.8667  113.6333   \n",
       "32       32  Puerto Ayora      EC  2022-04-15 08:30:04  -0.7393  -90.3518   \n",
       "40       40     Bathsheba      BB  2022-04-15 08:30:08  13.2167  -59.5167   \n",
       "43       43        Ambulu      ID  2022-04-15 08:30:09  -8.3450  113.6058   \n",
       "45       45        Dingle      PH  2022-04-15 08:31:10  10.9995  122.6711   \n",
       "\n",
       "    Max Temp  Humidity  Cloudiness  Wind Speed  \n",
       "5      78.98        83         100        5.97  \n",
       "13     78.96        89          40        8.05  \n",
       "19     75.00        84          14        9.33  \n",
       "22     78.06        70          67        4.32  \n",
       "25     83.17        70           7       11.99  \n",
       "26     82.47        69          71       12.66  \n",
       "32     75.20        92          64        8.01  \n",
       "40     77.61        83          40       17.27  \n",
       "43     83.84        79          35        4.59  \n",
       "45     82.18        79         100        1.36  "
      ]
     },
     "execution_count": 12,
     "metadata": {},
     "output_type": "execute_result"
    }
   ],
   "source": [
    "# Filter the dataset to find the cities that fit the criteria.\n",
    "preferred_cities_df = city_data_df.loc[(city_data_df[\"Max Temp\"] <= max_temp) &\n",
    "                                       (city_data_df[\"Max Temp\"] >= min_temp)]\n",
    "preferred_cities_df.head(10)"
   ]
  },
  {
   "cell_type": "code",
   "execution_count": 13,
   "id": "5a41f675",
   "metadata": {},
   "outputs": [
    {
     "data": {
      "text/plain": [
       "City_ID       0\n",
       "City          0\n",
       "Country       3\n",
       "Date          0\n",
       "Lat           0\n",
       "Lng           0\n",
       "Max Temp      0\n",
       "Humidity      0\n",
       "Cloudiness    0\n",
       "Wind Speed    0\n",
       "dtype: int64"
      ]
     },
     "execution_count": 13,
     "metadata": {},
     "output_type": "execute_result"
    }
   ],
   "source": [
    "preferred_cities_df.isnull().sum()"
   ]
  },
  {
   "cell_type": "code",
   "execution_count": 14,
   "id": "bb35bc6c",
   "metadata": {},
   "outputs": [
    {
     "data": {
      "text/plain": [
       "City_ID       146\n",
       "City          146\n",
       "Country       143\n",
       "Date          146\n",
       "Lat           146\n",
       "Lng           146\n",
       "Max Temp      146\n",
       "Humidity      146\n",
       "Cloudiness    146\n",
       "Wind Speed    146\n",
       "dtype: int64"
      ]
     },
     "execution_count": 14,
     "metadata": {},
     "output_type": "execute_result"
    }
   ],
   "source": [
    "preferred_cities_df.count()"
   ]
  },
  {
   "cell_type": "code",
   "execution_count": 15,
   "id": "5fc26690",
   "metadata": {},
   "outputs": [
    {
     "data": {
      "text/plain": [
       "City_ID       146\n",
       "City          146\n",
       "Country       143\n",
       "Date          146\n",
       "Lat           146\n",
       "Lng           146\n",
       "Max Temp      146\n",
       "Humidity      146\n",
       "Cloudiness    146\n",
       "Wind Speed    146\n",
       "dtype: int64"
      ]
     },
     "execution_count": 15,
     "metadata": {},
     "output_type": "execute_result"
    }
   ],
   "source": [
    "preferred_cities_df.notnull().sum()"
   ]
  },
  {
   "cell_type": "code",
   "execution_count": 21,
   "id": "9a9c32c7",
   "metadata": {},
   "outputs": [],
   "source": [
    "preferred_cities_df = preferred_cities_df.dropna()"
   ]
  },
  {
   "cell_type": "code",
   "execution_count": 22,
   "id": "31b891ff",
   "metadata": {},
   "outputs": [
    {
     "data": {
      "text/plain": [
       "City_ID       143\n",
       "City          143\n",
       "Country       143\n",
       "Date          143\n",
       "Lat           143\n",
       "Lng           143\n",
       "Max Temp      143\n",
       "Humidity      143\n",
       "Cloudiness    143\n",
       "Wind Speed    143\n",
       "dtype: int64"
      ]
     },
     "execution_count": 22,
     "metadata": {},
     "output_type": "execute_result"
    }
   ],
   "source": [
    "preferred_cities_df.count()"
   ]
  },
  {
   "cell_type": "markdown",
   "id": "ff2c713e",
   "metadata": {},
   "source": [
    "## Get Travel Destinations"
   ]
  },
  {
   "cell_type": "code",
   "execution_count": 23,
   "id": "d85f703b",
   "metadata": {},
   "outputs": [
    {
     "data": {
      "text/html": [
       "<div>\n",
       "<style scoped>\n",
       "    .dataframe tbody tr th:only-of-type {\n",
       "        vertical-align: middle;\n",
       "    }\n",
       "\n",
       "    .dataframe tbody tr th {\n",
       "        vertical-align: top;\n",
       "    }\n",
       "\n",
       "    .dataframe thead th {\n",
       "        text-align: right;\n",
       "    }\n",
       "</style>\n",
       "<table border=\"1\" class=\"dataframe\">\n",
       "  <thead>\n",
       "    <tr style=\"text-align: right;\">\n",
       "      <th></th>\n",
       "      <th>City</th>\n",
       "      <th>Country</th>\n",
       "      <th>Max Temp</th>\n",
       "      <th>Lat</th>\n",
       "      <th>Lng</th>\n",
       "      <th>Hotel Name</th>\n",
       "    </tr>\n",
       "  </thead>\n",
       "  <tbody>\n",
       "    <tr>\n",
       "      <th>5</th>\n",
       "      <td>Axim</td>\n",
       "      <td>GH</td>\n",
       "      <td>78.98</td>\n",
       "      <td>4.8699</td>\n",
       "      <td>-2.2405</td>\n",
       "      <td></td>\n",
       "    </tr>\n",
       "    <tr>\n",
       "      <th>13</th>\n",
       "      <td>Vaini</td>\n",
       "      <td>TO</td>\n",
       "      <td>78.96</td>\n",
       "      <td>-21.2000</td>\n",
       "      <td>-175.2000</td>\n",
       "      <td></td>\n",
       "    </tr>\n",
       "    <tr>\n",
       "      <th>19</th>\n",
       "      <td>Port Antonio</td>\n",
       "      <td>JM</td>\n",
       "      <td>75.00</td>\n",
       "      <td>18.1800</td>\n",
       "      <td>-76.4612</td>\n",
       "      <td></td>\n",
       "    </tr>\n",
       "    <tr>\n",
       "      <th>22</th>\n",
       "      <td>Marawi</td>\n",
       "      <td>PH</td>\n",
       "      <td>78.06</td>\n",
       "      <td>7.9986</td>\n",
       "      <td>124.2928</td>\n",
       "      <td></td>\n",
       "    </tr>\n",
       "    <tr>\n",
       "      <th>25</th>\n",
       "      <td>Victoria</td>\n",
       "      <td>HK</td>\n",
       "      <td>83.17</td>\n",
       "      <td>22.2855</td>\n",
       "      <td>114.1577</td>\n",
       "      <td></td>\n",
       "    </tr>\n",
       "    <tr>\n",
       "      <th>26</th>\n",
       "      <td>Carnarvon</td>\n",
       "      <td>AU</td>\n",
       "      <td>82.47</td>\n",
       "      <td>-24.8667</td>\n",
       "      <td>113.6333</td>\n",
       "      <td></td>\n",
       "    </tr>\n",
       "    <tr>\n",
       "      <th>32</th>\n",
       "      <td>Puerto Ayora</td>\n",
       "      <td>EC</td>\n",
       "      <td>75.20</td>\n",
       "      <td>-0.7393</td>\n",
       "      <td>-90.3518</td>\n",
       "      <td></td>\n",
       "    </tr>\n",
       "    <tr>\n",
       "      <th>40</th>\n",
       "      <td>Bathsheba</td>\n",
       "      <td>BB</td>\n",
       "      <td>77.61</td>\n",
       "      <td>13.2167</td>\n",
       "      <td>-59.5167</td>\n",
       "      <td></td>\n",
       "    </tr>\n",
       "    <tr>\n",
       "      <th>43</th>\n",
       "      <td>Ambulu</td>\n",
       "      <td>ID</td>\n",
       "      <td>83.84</td>\n",
       "      <td>-8.3450</td>\n",
       "      <td>113.6058</td>\n",
       "      <td></td>\n",
       "    </tr>\n",
       "    <tr>\n",
       "      <th>45</th>\n",
       "      <td>Dingle</td>\n",
       "      <td>PH</td>\n",
       "      <td>82.18</td>\n",
       "      <td>10.9995</td>\n",
       "      <td>122.6711</td>\n",
       "      <td></td>\n",
       "    </tr>\n",
       "  </tbody>\n",
       "</table>\n",
       "</div>"
      ],
      "text/plain": [
       "            City Country  Max Temp      Lat       Lng Hotel Name\n",
       "5           Axim      GH     78.98   4.8699   -2.2405           \n",
       "13         Vaini      TO     78.96 -21.2000 -175.2000           \n",
       "19  Port Antonio      JM     75.00  18.1800  -76.4612           \n",
       "22        Marawi      PH     78.06   7.9986  124.2928           \n",
       "25      Victoria      HK     83.17  22.2855  114.1577           \n",
       "26     Carnarvon      AU     82.47 -24.8667  113.6333           \n",
       "32  Puerto Ayora      EC     75.20  -0.7393  -90.3518           \n",
       "40     Bathsheba      BB     77.61  13.2167  -59.5167           \n",
       "43        Ambulu      ID     83.84  -8.3450  113.6058           \n",
       "45        Dingle      PH     82.18  10.9995  122.6711           "
      ]
     },
     "execution_count": 23,
     "metadata": {},
     "output_type": "execute_result"
    }
   ],
   "source": [
    "# Create DataFrame called hotel_df to store hotel names along with city, country, max temp, and coordinates.\n",
    "hotel_df = preferred_cities_df[[\"City\", \"Country\", \"Max Temp\", \"Lat\", \"Lng\"]].copy()\n",
    "hotel_df[\"Hotel Name\"] = \"\"\n",
    "hotel_df.head(10)"
   ]
  },
  {
   "cell_type": "code",
   "execution_count": 25,
   "id": "a1e06799",
   "metadata": {},
   "outputs": [
    {
     "name": "stdout",
     "output_type": "stream",
     "text": [
      "Hotel not found... skipping.\n",
      "Hotel not found... skipping.\n",
      "Hotel not found... skipping.\n",
      "Hotel not found... skipping.\n",
      "Hotel not found... skipping.\n",
      "Hotel not found... skipping.\n",
      "Hotel not found... skipping.\n",
      "Hotel not found... skipping.\n",
      "Hotel not found... skipping.\n",
      "Hotel not found... skipping.\n",
      "Hotel not found... skipping.\n"
     ]
    }
   ],
   "source": [
    "# Set parameters to search for a hotel.\n",
    "params = {\n",
    "    \"radius\": 5000,\n",
    "    \"type\": \"lodging\",\n",
    "    \"key\": g_key\n",
    "}\n",
    "\n",
    "# Iterate through the DataFrame.\n",
    "for index, row in hotel_df.iterrows():\n",
    "    # Get the latitude and longitude.\n",
    "    lat = row[\"Lat\"]\n",
    "    lng = row[\"Lng\"]\n",
    "\n",
    "    # Add the latitude and longitude to location key for the params dictionary.\n",
    "    params[\"location\"] = f\"{lat},{lng}\"\n",
    "\n",
    "    # Use the search term: \"lodging\" and our latitude and longitude.\n",
    "    base_url = \"https://maps.googleapis.com/maps/api/place/nearbysearch/json\"\n",
    "    # Make request and get the JSON data from the search.\n",
    "    hotels = requests.get(base_url, params=params).json()\n",
    "    # Grab the first hotel from the results and store the name.\n",
    "    try:\n",
    "        hotel_df.loc[index, \"Hotel Name\"] = hotels[\"results\"][0][\"name\"]\n",
    "    except (IndexError):\n",
    "        print(\"Hotel not found... skipping.\")"
   ]
  },
  {
   "cell_type": "code",
   "execution_count": 26,
   "id": "332f4686",
   "metadata": {},
   "outputs": [
    {
     "data": {
      "text/html": [
       "<div>\n",
       "<style scoped>\n",
       "    .dataframe tbody tr th:only-of-type {\n",
       "        vertical-align: middle;\n",
       "    }\n",
       "\n",
       "    .dataframe tbody tr th {\n",
       "        vertical-align: top;\n",
       "    }\n",
       "\n",
       "    .dataframe thead th {\n",
       "        text-align: right;\n",
       "    }\n",
       "</style>\n",
       "<table border=\"1\" class=\"dataframe\">\n",
       "  <thead>\n",
       "    <tr style=\"text-align: right;\">\n",
       "      <th></th>\n",
       "      <th>City</th>\n",
       "      <th>Country</th>\n",
       "      <th>Max Temp</th>\n",
       "      <th>Lat</th>\n",
       "      <th>Lng</th>\n",
       "      <th>Hotel Name</th>\n",
       "    </tr>\n",
       "  </thead>\n",
       "  <tbody>\n",
       "    <tr>\n",
       "      <th>5</th>\n",
       "      <td>Axim</td>\n",
       "      <td>GH</td>\n",
       "      <td>78.98</td>\n",
       "      <td>4.8699</td>\n",
       "      <td>-2.2405</td>\n",
       "      <td>Axim Beach Resort And Spa</td>\n",
       "    </tr>\n",
       "    <tr>\n",
       "      <th>13</th>\n",
       "      <td>Vaini</td>\n",
       "      <td>TO</td>\n",
       "      <td>78.96</td>\n",
       "      <td>-21.2000</td>\n",
       "      <td>-175.2000</td>\n",
       "      <td>Keleti Beach Resort</td>\n",
       "    </tr>\n",
       "    <tr>\n",
       "      <th>19</th>\n",
       "      <td>Port Antonio</td>\n",
       "      <td>JM</td>\n",
       "      <td>75.00</td>\n",
       "      <td>18.1800</td>\n",
       "      <td>-76.4612</td>\n",
       "      <td>The Trident Hotel</td>\n",
       "    </tr>\n",
       "    <tr>\n",
       "      <th>22</th>\n",
       "      <td>Marawi</td>\n",
       "      <td>PH</td>\n",
       "      <td>78.06</td>\n",
       "      <td>7.9986</td>\n",
       "      <td>124.2928</td>\n",
       "      <td>Derogongan Residence</td>\n",
       "    </tr>\n",
       "    <tr>\n",
       "      <th>25</th>\n",
       "      <td>Victoria</td>\n",
       "      <td>HK</td>\n",
       "      <td>83.17</td>\n",
       "      <td>22.2855</td>\n",
       "      <td>114.1577</td>\n",
       "      <td>Mini Hotel Central</td>\n",
       "    </tr>\n",
       "    <tr>\n",
       "      <th>26</th>\n",
       "      <td>Carnarvon</td>\n",
       "      <td>AU</td>\n",
       "      <td>82.47</td>\n",
       "      <td>-24.8667</td>\n",
       "      <td>113.6333</td>\n",
       "      <td>Hospitality Carnarvon</td>\n",
       "    </tr>\n",
       "    <tr>\n",
       "      <th>32</th>\n",
       "      <td>Puerto Ayora</td>\n",
       "      <td>EC</td>\n",
       "      <td>75.20</td>\n",
       "      <td>-0.7393</td>\n",
       "      <td>-90.3518</td>\n",
       "      <td>Finch Bay Galapagos Hotel</td>\n",
       "    </tr>\n",
       "    <tr>\n",
       "      <th>40</th>\n",
       "      <td>Bathsheba</td>\n",
       "      <td>BB</td>\n",
       "      <td>77.61</td>\n",
       "      <td>13.2167</td>\n",
       "      <td>-59.5167</td>\n",
       "      <td>Atlantis Hotel</td>\n",
       "    </tr>\n",
       "    <tr>\n",
       "      <th>43</th>\n",
       "      <td>Ambulu</td>\n",
       "      <td>ID</td>\n",
       "      <td>83.84</td>\n",
       "      <td>-8.3450</td>\n",
       "      <td>113.6058</td>\n",
       "      <td>Hotel Ambulu Jember</td>\n",
       "    </tr>\n",
       "    <tr>\n",
       "      <th>45</th>\n",
       "      <td>Dingle</td>\n",
       "      <td>PH</td>\n",
       "      <td>82.18</td>\n",
       "      <td>10.9995</td>\n",
       "      <td>122.6711</td>\n",
       "      <td>SEGAYA PROPERTY</td>\n",
       "    </tr>\n",
       "  </tbody>\n",
       "</table>\n",
       "</div>"
      ],
      "text/plain": [
       "            City Country  Max Temp      Lat       Lng  \\\n",
       "5           Axim      GH     78.98   4.8699   -2.2405   \n",
       "13         Vaini      TO     78.96 -21.2000 -175.2000   \n",
       "19  Port Antonio      JM     75.00  18.1800  -76.4612   \n",
       "22        Marawi      PH     78.06   7.9986  124.2928   \n",
       "25      Victoria      HK     83.17  22.2855  114.1577   \n",
       "26     Carnarvon      AU     82.47 -24.8667  113.6333   \n",
       "32  Puerto Ayora      EC     75.20  -0.7393  -90.3518   \n",
       "40     Bathsheba      BB     77.61  13.2167  -59.5167   \n",
       "43        Ambulu      ID     83.84  -8.3450  113.6058   \n",
       "45        Dingle      PH     82.18  10.9995  122.6711   \n",
       "\n",
       "                   Hotel Name  \n",
       "5   Axim Beach Resort And Spa  \n",
       "13        Keleti Beach Resort  \n",
       "19          The Trident Hotel  \n",
       "22       Derogongan Residence  \n",
       "25         Mini Hotel Central  \n",
       "26      Hospitality Carnarvon  \n",
       "32  Finch Bay Galapagos Hotel  \n",
       "40             Atlantis Hotel  \n",
       "43        Hotel Ambulu Jember  \n",
       "45            SEGAYA PROPERTY  "
      ]
     },
     "execution_count": 26,
     "metadata": {},
     "output_type": "execute_result"
    }
   ],
   "source": [
    "hotel_df.head(10)"
   ]
  },
  {
   "cell_type": "code",
   "execution_count": 29,
   "id": "1a3a97b6",
   "metadata": {},
   "outputs": [
    {
     "data": {
      "application/vnd.jupyter.widget-view+json": {
       "model_id": "ea80c22f719f4ab4830f0b25835eb2e3",
       "version_major": 2,
       "version_minor": 0
      },
      "text/plain": [
       "Figure(layout=FigureLayout(height='420px'))"
      ]
     },
     "metadata": {},
     "output_type": "display_data"
    }
   ],
   "source": [
    "# Add a heatmap of temperature for the vacation spots and marker for each city.\n",
    "locations = hotel_df[[\"Lat\", \"Lng\"]]\n",
    "max_temp = hotel_df[\"Max Temp\"]\n",
    "fig = gmaps.figure(center=(30.0, 31.0), zoom_level=1.5)\n",
    "heat_layer = gmaps.heatmap_layer(locations, weights=max_temp,\n",
    "             dissipating=False, max_intensity=300, point_radius=4)\n",
    "marker_layer = gmaps.marker_layer(locations)\n",
    "fig.add_layer(heat_layer)\n",
    "fig.add_layer(marker_layer)\n",
    "# Call the figure to plot the data.\n",
    "fig"
   ]
  },
  {
   "cell_type": "code",
   "execution_count": 30,
   "id": "e8beb6ba",
   "metadata": {},
   "outputs": [],
   "source": [
    "info_box_template = \"\"\"\n",
    "<dl>\n",
    "<dt>Hotel Name</dt><dd>{Hotel Name}</dd>\n",
    "<dt>City</dt><dd>{City}</dd>\n",
    "<dt>Country</dt><dd>{Country}</dd>\n",
    "<dt>Max Temp</dt><dd>{Max Temp} °F</dd>\n",
    "</dl>\n",
    "\"\"\"\n",
    "# Store the DataFrame Row.\n",
    "hotel_info = [info_box_template.format(**row) for index, row in hotel_df.iterrows()]"
   ]
  },
  {
   "cell_type": "code",
   "execution_count": 31,
   "id": "16e09801",
   "metadata": {
    "scrolled": true
   },
   "outputs": [
    {
     "data": {
      "application/vnd.jupyter.widget-view+json": {
       "model_id": "685f755309db4ed0ad7c143a8cc1e154",
       "version_major": 2,
       "version_minor": 0
      },
      "text/plain": [
       "Figure(layout=FigureLayout(height='420px'))"
      ]
     },
     "metadata": {},
     "output_type": "display_data"
    }
   ],
   "source": [
    "# Add a heatmap of temperature for the vacation spots and a pop-up marker for each city.\n",
    "locations = hotel_df[[\"Lat\", \"Lng\"]]\n",
    "max_temp = hotel_df[\"Max Temp\"]\n",
    "fig = gmaps.figure(center=(30.0, 31.0), zoom_level=1.5)\n",
    "heat_layer = gmaps.heatmap_layer(locations, weights=max_temp,dissipating=False,\n",
    "             max_intensity=300, point_radius=4)\n",
    "marker_layer = gmaps.marker_layer(locations, info_box_content=hotel_info)\n",
    "fig.add_layer(heat_layer)\n",
    "fig.add_layer(marker_layer)\n",
    "\n",
    "# Call the figure to plot the data.\n",
    "fig"
   ]
  },
  {
   "cell_type": "code",
   "execution_count": null,
   "id": "0ec8673e",
   "metadata": {},
   "outputs": [],
   "source": []
  }
 ],
 "metadata": {
  "kernelspec": {
   "display_name": "PythonData",
   "language": "python",
   "name": "pythondata"
  },
  "language_info": {
   "codemirror_mode": {
    "name": "ipython",
    "version": 3
   },
   "file_extension": ".py",
   "mimetype": "text/x-python",
   "name": "python",
   "nbconvert_exporter": "python",
   "pygments_lexer": "ipython3",
   "version": "3.9.7"
  }
 },
 "nbformat": 4,
 "nbformat_minor": 5
}
